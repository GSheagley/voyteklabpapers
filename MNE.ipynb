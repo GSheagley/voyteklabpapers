{
 "cells": [
  {
   "cell_type": "code",
   "execution_count": 1,
   "metadata": {
    "collapsed": true
   },
   "outputs": [],
   "source": [
    "import mne\n",
    "import scipy.io\n",
    "import pandas as pd\n",
    "import numpy as np\n",
    "import matplotlib.pyplot as plt\n",
    "from scipy.interpolate import interp1d\n",
    "import os"
   ]
  },
  {
   "cell_type": "code",
   "execution_count": 2,
   "metadata": {
    "collapsed": false
   },
   "outputs": [],
   "source": [
    "dat_path='C:\\\\Users\\\\Main Account\\\\Desktop\\\\voyteklabpapers\\\\NewEEG\\\\'\n",
    "f_names =['03baseline 20080630 1139.fdt','03baseline 20080630 1139.set','06baseline 20080916 1243.fdt','06baseline 20080916 1243.set','07baseline 20080929 1438.fdt','07baseline 20080929 1438.set','08baseline 20080918 1609.fdt','08baseline 20080918 1609.set','09baseline 20080929 1233.fdt','09baseline 20080929 1233.set','109baseline 20080911 1551.fdt','109baseline 20080911 1551.set','10baseline 20080930 1247.fdt','10baseline 20080930 1247.set','112baseline 20090226 1551.fdt','112baseline 20090226 1551.set','113 baseline 20090304 1628.fdt','113 baseline 20090304 1628.set','114baseline 20090326 1235.fdt','114baseline 20090326 1235.set','115baseline 20090227 1514.fdt','115baseline 20090227 1514.set','11baseline 20080925 1532.fdt','11baseline 20080925 1532.set','12baseline 20081023 0948.fdt','12baseline 20081023 0948.set','13baseline 20081009 1534.fdt','13baseline 20081009 1534.set','14baseline 20081024 1027.fdt','14baseline 20081024 1027.set','15baseline 20081031 1203.fdt','15baseline 20081031 1203.set','16baseline 20081120 1149.fdt','16baseline 20081120 1149.set','17baseline 20081120 1520.fdt','17baseline 20081120 1520.set','18baseline 20081205 1141.fdt','18baseline 20081205 1141.set','19baseline 20081125 1306.fdt','19baseline 20081125 1306.set','20baseline 20081209 1452.fdt','20baseline 20081209 1452.set','21baseline 20081209 1159.fdt','21baseline 20081209 1159.set','22baseline 20081215 1654.fdt','22baseline 20081215 1654.set','23baseline 20081205 1451.fdt','23baseline 20081205 1451.set','24baseline 20090120 1503.fdt','24baseline 20090120 1503.set']"
   ]
  },
  {
   "cell_type": "code",
   "execution_count": 3,
   "metadata": {
    "collapsed": false
   },
   "outputs": [
    {
     "data": {
      "text/plain": [
       "['03baseline 20080630 1139.fdt',\n",
       " '03baseline 20080630 1139.set',\n",
       " '06baseline 20080916 1243.fdt',\n",
       " '06baseline 20080916 1243.set',\n",
       " '07baseline 20080929 1438.fdt',\n",
       " '07baseline 20080929 1438.set',\n",
       " '08baseline 20080918 1609.fdt',\n",
       " '08baseline 20080918 1609.set',\n",
       " '09baseline 20080929 1233.fdt',\n",
       " '09baseline 20080929 1233.set',\n",
       " '109baseline 20080911 1551.fdt',\n",
       " '109baseline 20080911 1551.set',\n",
       " '10baseline 20080930 1247.fdt',\n",
       " '10baseline 20080930 1247.set',\n",
       " '112baseline 20090226 1551.fdt',\n",
       " '112baseline 20090226 1551.set',\n",
       " '113 baseline 20090304 1628.fdt',\n",
       " '113 baseline 20090304 1628.set',\n",
       " '114baseline 20090326 1235.fdt',\n",
       " '114baseline 20090326 1235.set',\n",
       " '115baseline 20090227 1514.fdt',\n",
       " '115baseline 20090227 1514.set',\n",
       " '11baseline 20080925 1532.fdt',\n",
       " '11baseline 20080925 1532.set',\n",
       " '12baseline 20081023 0948.fdt',\n",
       " '12baseline 20081023 0948.set',\n",
       " '13baseline 20081009 1534.fdt',\n",
       " '13baseline 20081009 1534.set',\n",
       " '14baseline 20081024 1027.fdt',\n",
       " '14baseline 20081024 1027.set',\n",
       " '15baseline 20081031 1203.fdt',\n",
       " '15baseline 20081031 1203.set',\n",
       " '16baseline 20081120 1149.fdt',\n",
       " '16baseline 20081120 1149.set',\n",
       " '17baseline 20081120 1520.fdt',\n",
       " '17baseline 20081120 1520.set',\n",
       " '18baseline 20081205 1141.fdt',\n",
       " '18baseline 20081205 1141.set',\n",
       " '19baseline 20081125 1306.fdt',\n",
       " '19baseline 20081125 1306.set',\n",
       " '20baseline 20081209 1452.fdt',\n",
       " '20baseline 20081209 1452.set',\n",
       " '21baseline 20081209 1159.fdt',\n",
       " '21baseline 20081209 1159.set',\n",
       " '22baseline 20081215 1654.fdt',\n",
       " '22baseline 20081215 1654.set',\n",
       " '23baseline 20081205 1451.fdt',\n",
       " '23baseline 20081205 1451.set',\n",
       " '24baseline 20090120 1503.fdt',\n",
       " '24baseline 20090120 1503.set']"
      ]
     },
     "execution_count": 3,
     "metadata": {},
     "output_type": "execute_result"
    }
   ],
   "source": [
    "f_names"
   ]
  },
  {
   "cell_type": "code",
   "execution_count": 4,
   "metadata": {
    "collapsed": false
   },
   "outputs": [],
   "source": [
    "newlist=f_names[1::2]"
   ]
  },
  {
   "cell_type": "code",
   "execution_count": 5,
   "metadata": {
    "collapsed": false
   },
   "outputs": [
    {
     "data": {
      "text/plain": [
       "['03baseline 20080630 1139.set',\n",
       " '06baseline 20080916 1243.set',\n",
       " '07baseline 20080929 1438.set',\n",
       " '08baseline 20080918 1609.set',\n",
       " '09baseline 20080929 1233.set',\n",
       " '109baseline 20080911 1551.set',\n",
       " '10baseline 20080930 1247.set',\n",
       " '112baseline 20090226 1551.set',\n",
       " '113 baseline 20090304 1628.set',\n",
       " '114baseline 20090326 1235.set',\n",
       " '115baseline 20090227 1514.set',\n",
       " '11baseline 20080925 1532.set',\n",
       " '12baseline 20081023 0948.set',\n",
       " '13baseline 20081009 1534.set',\n",
       " '14baseline 20081024 1027.set',\n",
       " '15baseline 20081031 1203.set',\n",
       " '16baseline 20081120 1149.set',\n",
       " '17baseline 20081120 1520.set',\n",
       " '18baseline 20081205 1141.set',\n",
       " '19baseline 20081125 1306.set',\n",
       " '20baseline 20081209 1452.set',\n",
       " '21baseline 20081209 1159.set',\n",
       " '22baseline 20081215 1654.set',\n",
       " '23baseline 20081205 1451.set',\n",
       " '24baseline 20090120 1503.set']"
      ]
     },
     "execution_count": 5,
     "metadata": {},
     "output_type": "execute_result"
    }
   ],
   "source": [
    "newlist"
   ]
  },
  {
   "cell_type": "code",
   "execution_count": 6,
   "metadata": {
    "collapsed": false
   },
   "outputs": [
    {
     "name": "stdout",
     "output_type": "stream",
     "text": [
      "No events found, returning empty stim channel ...\n",
      "Reading C:\\Users\\Main Account\\Desktop\\voyteklabpapers\\NewEEG\\03baseline 20080630 1139.fdt\n",
      "No events found, returning empty stim channel ...\n",
      "Reading C:\\Users\\Main Account\\Desktop\\voyteklabpapers\\NewEEG\\06baseline 20080916 1243.fdt\n",
      "No events found, returning empty stim channel ...\n",
      "Reading C:\\Users\\Main Account\\Desktop\\voyteklabpapers\\NewEEG\\07baseline 20080929 1438.fdt\n",
      "No events found, returning empty stim channel ...\n",
      "Reading C:\\Users\\Main Account\\Desktop\\voyteklabpapers\\NewEEG\\08baseline 20080918 1609.fdt\n",
      "No events found, returning empty stim channel ...\n",
      "Reading C:\\Users\\Main Account\\Desktop\\voyteklabpapers\\NewEEG\\09baseline 20080929 1233.fdt\n",
      "No events found, returning empty stim channel ...\n",
      "Reading C:\\Users\\Main Account\\Desktop\\voyteklabpapers\\NewEEG\\109baseline 20080911 1551.fdt\n",
      "No events found, returning empty stim channel ...\n",
      "Reading C:\\Users\\Main Account\\Desktop\\voyteklabpapers\\NewEEG\\10baseline 20080930 1247.fdt\n",
      "No events found, returning empty stim channel ...\n",
      "Reading C:\\Users\\Main Account\\Desktop\\voyteklabpapers\\NewEEG\\112baseline 20090226 1551.fdt\n",
      "No events found, returning empty stim channel ...\n",
      "Reading C:\\Users\\Main Account\\Desktop\\voyteklabpapers\\NewEEG\\113 baseline 20090304 1628.fdt\n",
      "No events found, returning empty stim channel ...\n",
      "Reading C:\\Users\\Main Account\\Desktop\\voyteklabpapers\\NewEEG\\114baseline 20090326 1235.fdt\n",
      "No events found, returning empty stim channel ...\n",
      "Reading C:\\Users\\Main Account\\Desktop\\voyteklabpapers\\NewEEG\\115baseline 20090227 1514.fdt\n",
      "No events found, returning empty stim channel ...\n",
      "Reading C:\\Users\\Main Account\\Desktop\\voyteklabpapers\\NewEEG\\11baseline 20080925 1532.fdt\n",
      "No events found, returning empty stim channel ...\n",
      "Reading C:\\Users\\Main Account\\Desktop\\voyteklabpapers\\NewEEG\\12baseline 20081023 0948.fdt\n",
      "No events found, returning empty stim channel ...\n",
      "Reading C:\\Users\\Main Account\\Desktop\\voyteklabpapers\\NewEEG\\13baseline 20081009 1534.fdt\n",
      "No events found, returning empty stim channel ...\n",
      "Reading C:\\Users\\Main Account\\Desktop\\voyteklabpapers\\NewEEG\\14baseline 20081024 1027.fdt\n",
      "No events found, returning empty stim channel ...\n",
      "Reading C:\\Users\\Main Account\\Desktop\\voyteklabpapers\\NewEEG\\15baseline 20081031 1203.fdt\n",
      "No events found, returning empty stim channel ...\n",
      "Reading C:\\Users\\Main Account\\Desktop\\voyteklabpapers\\NewEEG\\16baseline 20081120 1149.fdt\n",
      "No events found, returning empty stim channel ...\n",
      "Reading C:\\Users\\Main Account\\Desktop\\voyteklabpapers\\NewEEG\\17baseline 20081120 1520.fdt\n",
      "No events found, returning empty stim channel ...\n",
      "Reading C:\\Users\\Main Account\\Desktop\\voyteklabpapers\\NewEEG\\18baseline 20081205 1141.fdt\n",
      "No events found, returning empty stim channel ...\n",
      "Reading C:\\Users\\Main Account\\Desktop\\voyteklabpapers\\NewEEG\\19baseline 20081125 1306.fdt\n",
      "No events found, returning empty stim channel ...\n",
      "Reading C:\\Users\\Main Account\\Desktop\\voyteklabpapers\\NewEEG\\20baseline 20081209 1452.fdt\n",
      "No events found, returning empty stim channel ...\n",
      "Reading C:\\Users\\Main Account\\Desktop\\voyteklabpapers\\NewEEG\\21baseline 20081209 1159.fdt\n",
      "No events found, returning empty stim channel ...\n",
      "Reading C:\\Users\\Main Account\\Desktop\\voyteklabpapers\\NewEEG\\22baseline 20081215 1654.fdt\n",
      "Events like the following will be dropped entirely: ['epoc'], 1 in total\n",
      "2/2 event codes could not be mapped to integers. Use the 'event_id' parameter to map such events manually.\n",
      "As is, the trigger channel will consist entirely of zeros.\n",
      "Reading C:\\Users\\Main Account\\Desktop\\voyteklabpapers\\NewEEG\\23baseline 20081205 1451.fdt\n"
     ]
    },
    {
     "name": "stderr",
     "output_type": "stream",
     "text": [
      "<ipython-input-6-f42d78e6ee5d>:2: RuntimeWarning: Events like the following will be dropped entirely: ['epoc'], 1 in total\n",
      "  dat=mne.io.read_raw_eeglab(dat_path + i);\n",
      "<ipython-input-6-f42d78e6ee5d>:2: RuntimeWarning: 2/2 event codes could not be mapped to integers. Use the 'event_id' parameter to map such events manually.\n",
      "  dat=mne.io.read_raw_eeglab(dat_path + i);\n",
      "<ipython-input-6-f42d78e6ee5d>:2: RuntimeWarning: As is, the trigger channel will consist entirely of zeros.\n",
      "  dat=mne.io.read_raw_eeglab(dat_path + i);\n"
     ]
    },
    {
     "name": "stdout",
     "output_type": "stream",
     "text": [
      "Events like the following will be dropped entirely: ['epoc'], 1 in total\n",
      "2/2 event codes could not be mapped to integers. Use the 'event_id' parameter to map such events manually.\n",
      "As is, the trigger channel will consist entirely of zeros.\n",
      "Reading C:\\Users\\Main Account\\Desktop\\voyteklabpapers\\NewEEG\\24baseline 20090120 1503.fdt\n"
     ]
    },
    {
     "name": "stderr",
     "output_type": "stream",
     "text": [
      "<ipython-input-6-f42d78e6ee5d>:2: RuntimeWarning: Events like the following will be dropped entirely: ['epoc'], 1 in total\n",
      "  dat=mne.io.read_raw_eeglab(dat_path + i);\n",
      "<ipython-input-6-f42d78e6ee5d>:2: RuntimeWarning: 2/2 event codes could not be mapped to integers. Use the 'event_id' parameter to map such events manually.\n",
      "  dat=mne.io.read_raw_eeglab(dat_path + i);\n",
      "<ipython-input-6-f42d78e6ee5d>:2: RuntimeWarning: As is, the trigger channel will consist entirely of zeros.\n",
      "  dat=mne.io.read_raw_eeglab(dat_path + i);\n"
     ]
    }
   ],
   "source": [
    "for i in newlist:\n",
    "    dat=mne.io.read_raw_eeglab(dat_path + i);"
   ]
  },
  {
   "cell_type": "code",
   "execution_count": 7,
   "metadata": {
    "collapsed": false
   },
   "outputs": [
    {
     "name": "stdout",
     "output_type": "stream",
     "text": [
      "Reading 0 ... 82136  =      0.000 ...   328.544 secs...\n"
     ]
    },
    {
     "data": {
      "text/plain": [
       "<RawEEGLAB  |  24baseline 20090120 1503.fdt, n_channels x n_times : 130 x 82137 (328.5 sec), ~81.6 MB, data loaded>"
      ]
     },
     "execution_count": 7,
     "metadata": {},
     "output_type": "execute_result"
    }
   ],
   "source": [
    "dat.load_data()"
   ]
  },
  {
   "cell_type": "code",
   "execution_count": 8,
   "metadata": {
    "collapsed": false
   },
   "outputs": [
    {
     "ename": "UnboundLocalError",
     "evalue": "local variable 'iprint' referenced before assignment",
     "output_type": "error",
     "traceback": [
      "\u001b[0;31m---------------------------------------------------------------------------\u001b[0m",
      "\u001b[0;31mUnboundLocalError\u001b[0m                         Traceback (most recent call last)",
      "\u001b[0;32m<ipython-input-8-0b264a1e3ca8>\u001b[0m in \u001b[0;36m<module>\u001b[0;34m()\u001b[0m\n\u001b[0;32m----> 1\u001b[0;31m \u001b[0mdat2\u001b[0m\u001b[1;33m=\u001b[0m\u001b[0mdat\u001b[0m\u001b[1;33m.\u001b[0m\u001b[0minterpolate_bads\u001b[0m\u001b[1;33m(\u001b[0m\u001b[1;33m)\u001b[0m\u001b[1;33m\u001b[0m\u001b[0m\n\u001b[0m",
      "\u001b[0;32mC:\\Users\\Main Account\\Anaconda3\\lib\\site-packages\\mne\\channels\\channels.py\u001b[0m in \u001b[0;36minterpolate_bads\u001b[0;34m(self, reset_bads, mode)\u001b[0m\n\u001b[1;32m    833\u001b[0m             \u001b[1;32mraise\u001b[0m \u001b[0mValueError\u001b[0m\u001b[1;33m(\u001b[0m\u001b[1;34m'Data must be preloaded.'\u001b[0m\u001b[1;33m)\u001b[0m\u001b[1;33m\u001b[0m\u001b[0m\n\u001b[1;32m    834\u001b[0m \u001b[1;33m\u001b[0m\u001b[0m\n\u001b[0;32m--> 835\u001b[0;31m         \u001b[0m_interpolate_bads_eeg\u001b[0m\u001b[1;33m(\u001b[0m\u001b[0mself\u001b[0m\u001b[1;33m)\u001b[0m\u001b[1;33m\u001b[0m\u001b[0m\n\u001b[0m\u001b[1;32m    836\u001b[0m         \u001b[0m_interpolate_bads_meg\u001b[0m\u001b[1;33m(\u001b[0m\u001b[0mself\u001b[0m\u001b[1;33m,\u001b[0m \u001b[0mmode\u001b[0m\u001b[1;33m=\u001b[0m\u001b[0mmode\u001b[0m\u001b[1;33m)\u001b[0m\u001b[1;33m\u001b[0m\u001b[0m\n\u001b[1;32m    837\u001b[0m \u001b[1;33m\u001b[0m\u001b[0m\n",
      "\u001b[0;32mC:\\Users\\Main Account\\Anaconda3\\lib\\site-packages\\mne\\channels\\interpolation.py\u001b[0m in \u001b[0;36m_interpolate_bads_eeg\u001b[0;34m(inst)\u001b[0m\n\u001b[1;32m    138\u001b[0m \u001b[1;33m\u001b[0m\u001b[0m\n\u001b[1;32m    139\u001b[0m     \u001b[1;31m# test spherical fit\u001b[0m\u001b[1;33m\u001b[0m\u001b[1;33m\u001b[0m\u001b[0m\n\u001b[0;32m--> 140\u001b[0;31m     \u001b[0mradius\u001b[0m\u001b[1;33m,\u001b[0m \u001b[0mcenter\u001b[0m \u001b[1;33m=\u001b[0m \u001b[0m_fit_sphere\u001b[0m\u001b[1;33m(\u001b[0m\u001b[0mpos_good\u001b[0m\u001b[1;33m)\u001b[0m\u001b[1;33m\u001b[0m\u001b[0m\n\u001b[0m\u001b[1;32m    141\u001b[0m     \u001b[0mdistance\u001b[0m \u001b[1;33m=\u001b[0m \u001b[0mnp\u001b[0m\u001b[1;33m.\u001b[0m\u001b[0msqrt\u001b[0m\u001b[1;33m(\u001b[0m\u001b[0mnp\u001b[0m\u001b[1;33m.\u001b[0m\u001b[0msum\u001b[0m\u001b[1;33m(\u001b[0m\u001b[1;33m(\u001b[0m\u001b[0mpos_good\u001b[0m \u001b[1;33m-\u001b[0m \u001b[0mcenter\u001b[0m\u001b[1;33m)\u001b[0m \u001b[1;33m**\u001b[0m \u001b[1;36m2\u001b[0m\u001b[1;33m,\u001b[0m \u001b[1;36m1\u001b[0m\u001b[1;33m)\u001b[0m\u001b[1;33m)\u001b[0m\u001b[1;33m\u001b[0m\u001b[0m\n\u001b[1;32m    142\u001b[0m     \u001b[0mdistance\u001b[0m \u001b[1;33m=\u001b[0m \u001b[0mnp\u001b[0m\u001b[1;33m.\u001b[0m\u001b[0mmean\u001b[0m\u001b[1;33m(\u001b[0m\u001b[0mdistance\u001b[0m \u001b[1;33m/\u001b[0m \u001b[0mradius\u001b[0m\u001b[1;33m)\u001b[0m\u001b[1;33m\u001b[0m\u001b[0m\n",
      "\u001b[0;32mC:\\Users\\Main Account\\Anaconda3\\lib\\site-packages\\mne\\bem.py\u001b[0m in \u001b[0;36m_fit_sphere\u001b[0;34m(points, disp)\u001b[0m\n\u001b[1;32m    988\u001b[0m \u001b[1;33m\u001b[0m\u001b[0m\n\u001b[1;32m    989\u001b[0m     x_opt = fmin_cobyla(cost_fun, x0, constraint, rhobeg=radius_init,\n\u001b[0;32m--> 990\u001b[0;31m                         rhoend=radius_init * 1e-6, disp=disp)\n\u001b[0m\u001b[1;32m    991\u001b[0m \u001b[1;33m\u001b[0m\u001b[0m\n\u001b[1;32m    992\u001b[0m     \u001b[0morigin\u001b[0m \u001b[1;33m=\u001b[0m \u001b[0mx_opt\u001b[0m\u001b[1;33m[\u001b[0m\u001b[1;33m:\u001b[0m\u001b[1;36m3\u001b[0m\u001b[1;33m]\u001b[0m\u001b[1;33m\u001b[0m\u001b[0m\n",
      "\u001b[0;32mC:\\Users\\Main Account\\Anaconda3\\lib\\site-packages\\scipy\\optimize\\cobyla.py\u001b[0m in \u001b[0;36mfmin_cobyla\u001b[0;34m(func, x0, cons, args, consargs, rhobeg, rhoend, maxfun, disp, catol)\u001b[0m\n\u001b[1;32m    165\u001b[0m \u001b[1;33m\u001b[0m\u001b[0m\n\u001b[1;32m    166\u001b[0m     sol = _minimize_cobyla(func, x0, args, constraints=con,\n\u001b[0;32m--> 167\u001b[0;31m                            **opts)\n\u001b[0m\u001b[1;32m    168\u001b[0m     \u001b[1;32mif\u001b[0m \u001b[0mdisp\u001b[0m \u001b[1;32mand\u001b[0m \u001b[1;32mnot\u001b[0m \u001b[0msol\u001b[0m\u001b[1;33m[\u001b[0m\u001b[1;34m'success'\u001b[0m\u001b[1;33m]\u001b[0m\u001b[1;33m:\u001b[0m\u001b[1;33m\u001b[0m\u001b[0m\n\u001b[1;32m    169\u001b[0m         \u001b[0mprint\u001b[0m\u001b[1;33m(\u001b[0m\u001b[1;34m\"COBYLA failed to find a solution: %s\"\u001b[0m \u001b[1;33m%\u001b[0m \u001b[1;33m(\u001b[0m\u001b[0msol\u001b[0m\u001b[1;33m.\u001b[0m\u001b[0mmessage\u001b[0m\u001b[1;33m,\u001b[0m\u001b[1;33m)\u001b[0m\u001b[1;33m)\u001b[0m\u001b[1;33m\u001b[0m\u001b[0m\n",
      "\u001b[0;32mC:\\Users\\Main Account\\Anaconda3\\lib\\site-packages\\scipy\\optimize\\cobyla.py\u001b[0m in \u001b[0;36m_minimize_cobyla\u001b[0;34m(fun, x0, args, constraints, rhobeg, tol, maxiter, disp, catol, **unknown_options)\u001b[0m\n\u001b[1;32m    250\u001b[0m     \u001b[0minfo\u001b[0m \u001b[1;33m=\u001b[0m \u001b[0mnp\u001b[0m\u001b[1;33m.\u001b[0m\u001b[0mzeros\u001b[0m\u001b[1;33m(\u001b[0m\u001b[1;36m4\u001b[0m\u001b[1;33m,\u001b[0m \u001b[0mnp\u001b[0m\u001b[1;33m.\u001b[0m\u001b[0mfloat64\u001b[0m\u001b[1;33m)\u001b[0m\u001b[1;33m\u001b[0m\u001b[0m\n\u001b[1;32m    251\u001b[0m     xopt, info = _cobyla.minimize(calcfc, m=m, x=np.copy(x0), rhobeg=rhobeg,\n\u001b[0;32m--> 252\u001b[0;31m                                   \u001b[0mrhoend\u001b[0m\u001b[1;33m=\u001b[0m\u001b[0mrhoend\u001b[0m\u001b[1;33m,\u001b[0m \u001b[0miprint\u001b[0m\u001b[1;33m=\u001b[0m\u001b[0miprint\u001b[0m\u001b[1;33m,\u001b[0m \u001b[0mmaxfun\u001b[0m\u001b[1;33m=\u001b[0m\u001b[0mmaxfun\u001b[0m\u001b[1;33m,\u001b[0m\u001b[1;33m\u001b[0m\u001b[0m\n\u001b[0m\u001b[1;32m    253\u001b[0m                                   dinfo=info)\n\u001b[1;32m    254\u001b[0m \u001b[1;33m\u001b[0m\u001b[0m\n",
      "\u001b[0;31mUnboundLocalError\u001b[0m: local variable 'iprint' referenced before assignment"
     ]
    }
   ],
   "source": [
    "dat2=dat.interpolate_bads()"
   ]
  },
  {
   "cell_type": "code",
   "execution_count": null,
   "metadata": {
    "collapsed": false
   },
   "outputs": [],
   "source": [
    "dat2.plot(n_channels=5, duration=20)"
   ]
  },
  {
   "cell_type": "code",
   "execution_count": null,
   "metadata": {
    "collapsed": false
   },
   "outputs": [],
   "source": [
    "#filter to 8-13 range\n",
    "fmin, fmax = 8, 13 \n"
   ]
  },
  {
   "cell_type": "code",
   "execution_count": null,
   "metadata": {
    "collapsed": false
   },
   "outputs": [],
   "source": [
    "dat.plot_psd?"
   ]
  },
  {
   "cell_type": "code",
   "execution_count": null,
   "metadata": {
    "collapsed": false
   },
   "outputs": [],
   "source": [
    "dat2.plot_psd(area_mode='std', tmin=0, tmax=20.0, fmin=8, fmax=13, show=False, n_fft = 2048, average=True)"
   ]
  },
  {
   "cell_type": "code",
   "execution_count": null,
   "metadata": {
    "collapsed": false
   },
   "outputs": [],
   "source": []
  },
  {
   "cell_type": "code",
   "execution_count": null,
   "metadata": {
    "collapsed": true
   },
   "outputs": [],
   "source": []
  }
 ],
 "metadata": {
  "kernelspec": {
   "display_name": "Python 3",
   "language": "python",
   "name": "python3"
  },
  "language_info": {
   "codemirror_mode": {
    "name": "ipython",
    "version": 3
   },
   "file_extension": ".py",
   "mimetype": "text/x-python",
   "name": "python",
   "nbconvert_exporter": "python",
   "pygments_lexer": "ipython3",
   "version": "3.6.0"
  }
 },
 "nbformat": 4,
 "nbformat_minor": 2
}
